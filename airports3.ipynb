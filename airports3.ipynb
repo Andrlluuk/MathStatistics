{
 "cells": [
  {
   "cell_type": "code",
   "execution_count": 1,
   "metadata": {},
   "outputs": [],
   "source": [
    "import pandas as pd\n",
    "import matplotlib.pyplot as plt\n",
    "import numpy as np\n",
    "import scipy.stats as sts"
   ]
  },
  {
   "cell_type": "code",
   "execution_count": 2,
   "metadata": {},
   "outputs": [],
   "source": [
    "table = pd.read_csv('Detailed_statistics_airborne-2.csv')"
   ]
  },
  {
   "cell_type": "code",
   "execution_count": 3,
   "metadata": {},
   "outputs": [],
   "source": [
    "table = table.dropna()"
   ]
  },
  {
   "cell_type": "code",
   "execution_count": 4,
   "metadata": {},
   "outputs": [],
   "source": [
    "crit = table[table['Airborne Time (Minutes)'] == 0].index\n",
    "table = table.drop(crit)"
   ]
  },
  {
   "cell_type": "code",
   "execution_count": 5,
   "metadata": {},
   "outputs": [],
   "source": [
    "date = np.array(table['Date (MM/DD/YYYY)'])\n",
    "number_date = []\n",
    "for dat in date:\n",
    "    t = dat.split(\"/\")\n",
    "    number_date.append(t)"
   ]
  },
  {
   "cell_type": "code",
   "execution_count": 6,
   "metadata": {},
   "outputs": [],
   "source": [
    "table['Good Date'] = number_date"
   ]
  },
  {
   "cell_type": "code",
   "execution_count": 12,
   "metadata": {},
   "outputs": [],
   "source": [
    "from collections import defaultdict"
   ]
  },
  {
   "cell_type": "code",
   "execution_count": 29,
   "metadata": {},
   "outputs": [
    {
     "data": {
      "text/html": [
       "<div>\n",
       "<style scoped>\n",
       "    .dataframe tbody tr th:only-of-type {\n",
       "        vertical-align: middle;\n",
       "    }\n",
       "\n",
       "    .dataframe tbody tr th {\n",
       "        vertical-align: top;\n",
       "    }\n",
       "\n",
       "    .dataframe thead th {\n",
       "        text-align: right;\n",
       "    }\n",
       "</style>\n",
       "<table border=\"1\" class=\"dataframe\">\n",
       "  <thead>\n",
       "    <tr style=\"text-align: right;\">\n",
       "      <th></th>\n",
       "      <th>Carrier Code</th>\n",
       "      <th>Date (MM/DD/YYYY)</th>\n",
       "      <th>Flight_Number</th>\n",
       "      <th>Tail Number</th>\n",
       "      <th>Origin Airport</th>\n",
       "      <th>Destination Airport</th>\n",
       "      <th>Airborne Time (Minutes)</th>\n",
       "      <th>Delay Carrier (Minutes)</th>\n",
       "      <th>Delay Weather (Minutes)</th>\n",
       "      <th>Delay National Aviation System (Minutes)</th>\n",
       "      <th>Delay Security (Minutes)</th>\n",
       "      <th>Delay Late Aircraft Arrival (Minutes)</th>\n",
       "      <th>Good Date</th>\n",
       "    </tr>\n",
       "  </thead>\n",
       "  <tbody>\n",
       "    <tr>\n",
       "      <th>1</th>\n",
       "      <td>AA</td>\n",
       "      <td>01/01/2004</td>\n",
       "      <td>1920.0</td>\n",
       "      <td>N442AA</td>\n",
       "      <td>LAX</td>\n",
       "      <td>SFO</td>\n",
       "      <td>74.0</td>\n",
       "      <td>0.0</td>\n",
       "      <td>0.0</td>\n",
       "      <td>32.0</td>\n",
       "      <td>0.0</td>\n",
       "      <td>0.0</td>\n",
       "      <td>[01, 01, 2004]</td>\n",
       "    </tr>\n",
       "    <tr>\n",
       "      <th>3</th>\n",
       "      <td>AA</td>\n",
       "      <td>01/01/2004</td>\n",
       "      <td>1936.0</td>\n",
       "      <td>N442AA</td>\n",
       "      <td>LAX</td>\n",
       "      <td>SFO</td>\n",
       "      <td>55.0</td>\n",
       "      <td>23.0</td>\n",
       "      <td>0.0</td>\n",
       "      <td>1.0</td>\n",
       "      <td>0.0</td>\n",
       "      <td>11.0</td>\n",
       "      <td>[01, 01, 2004]</td>\n",
       "    </tr>\n",
       "    <tr>\n",
       "      <th>4</th>\n",
       "      <td>AA</td>\n",
       "      <td>01/01/2004</td>\n",
       "      <td>1942.0</td>\n",
       "      <td>N513AA</td>\n",
       "      <td>LAX</td>\n",
       "      <td>SFO</td>\n",
       "      <td>57.0</td>\n",
       "      <td>0.0</td>\n",
       "      <td>0.0</td>\n",
       "      <td>0.0</td>\n",
       "      <td>0.0</td>\n",
       "      <td>0.0</td>\n",
       "      <td>[01, 01, 2004]</td>\n",
       "    </tr>\n",
       "    <tr>\n",
       "      <th>5</th>\n",
       "      <td>AA</td>\n",
       "      <td>01/01/2004</td>\n",
       "      <td>1950.0</td>\n",
       "      <td>N421AA</td>\n",
       "      <td>LAX</td>\n",
       "      <td>SFO</td>\n",
       "      <td>58.0</td>\n",
       "      <td>0.0</td>\n",
       "      <td>0.0</td>\n",
       "      <td>0.0</td>\n",
       "      <td>0.0</td>\n",
       "      <td>0.0</td>\n",
       "      <td>[01, 01, 2004]</td>\n",
       "    </tr>\n",
       "    <tr>\n",
       "      <th>6</th>\n",
       "      <td>AA</td>\n",
       "      <td>01/01/2004</td>\n",
       "      <td>1958.0</td>\n",
       "      <td>N513AA</td>\n",
       "      <td>LAX</td>\n",
       "      <td>SFO</td>\n",
       "      <td>53.0</td>\n",
       "      <td>0.0</td>\n",
       "      <td>0.0</td>\n",
       "      <td>0.0</td>\n",
       "      <td>0.0</td>\n",
       "      <td>0.0</td>\n",
       "      <td>[01, 01, 2004]</td>\n",
       "    </tr>\n",
       "    <tr>\n",
       "      <th>...</th>\n",
       "      <td>...</td>\n",
       "      <td>...</td>\n",
       "      <td>...</td>\n",
       "      <td>...</td>\n",
       "      <td>...</td>\n",
       "      <td>...</td>\n",
       "      <td>...</td>\n",
       "      <td>...</td>\n",
       "      <td>...</td>\n",
       "      <td>...</td>\n",
       "      <td>...</td>\n",
       "      <td>...</td>\n",
       "      <td>...</td>\n",
       "    </tr>\n",
       "    <tr>\n",
       "      <th>31114</th>\n",
       "      <td>AA</td>\n",
       "      <td>07/02/2020</td>\n",
       "      <td>2511.0</td>\n",
       "      <td>N758US</td>\n",
       "      <td>LAX</td>\n",
       "      <td>SFO</td>\n",
       "      <td>51.0</td>\n",
       "      <td>0.0</td>\n",
       "      <td>0.0</td>\n",
       "      <td>0.0</td>\n",
       "      <td>0.0</td>\n",
       "      <td>0.0</td>\n",
       "      <td>[07, 02, 2020]</td>\n",
       "    </tr>\n",
       "    <tr>\n",
       "      <th>31115</th>\n",
       "      <td>AA</td>\n",
       "      <td>07/03/2020</td>\n",
       "      <td>2511.0</td>\n",
       "      <td>N836AW</td>\n",
       "      <td>LAX</td>\n",
       "      <td>SFO</td>\n",
       "      <td>54.0</td>\n",
       "      <td>0.0</td>\n",
       "      <td>0.0</td>\n",
       "      <td>0.0</td>\n",
       "      <td>0.0</td>\n",
       "      <td>0.0</td>\n",
       "      <td>[07, 03, 2020]</td>\n",
       "    </tr>\n",
       "    <tr>\n",
       "      <th>31116</th>\n",
       "      <td>AA</td>\n",
       "      <td>07/04/2020</td>\n",
       "      <td>2511.0</td>\n",
       "      <td>N837AW</td>\n",
       "      <td>LAX</td>\n",
       "      <td>SFO</td>\n",
       "      <td>53.0</td>\n",
       "      <td>0.0</td>\n",
       "      <td>0.0</td>\n",
       "      <td>0.0</td>\n",
       "      <td>0.0</td>\n",
       "      <td>0.0</td>\n",
       "      <td>[07, 04, 2020]</td>\n",
       "    </tr>\n",
       "    <tr>\n",
       "      <th>31117</th>\n",
       "      <td>AA</td>\n",
       "      <td>07/05/2020</td>\n",
       "      <td>2511.0</td>\n",
       "      <td>N764US</td>\n",
       "      <td>LAX</td>\n",
       "      <td>SFO</td>\n",
       "      <td>54.0</td>\n",
       "      <td>0.0</td>\n",
       "      <td>0.0</td>\n",
       "      <td>0.0</td>\n",
       "      <td>0.0</td>\n",
       "      <td>0.0</td>\n",
       "      <td>[07, 05, 2020]</td>\n",
       "    </tr>\n",
       "    <tr>\n",
       "      <th>31118</th>\n",
       "      <td>AA</td>\n",
       "      <td>07/06/2020</td>\n",
       "      <td>2511.0</td>\n",
       "      <td>N765US</td>\n",
       "      <td>LAX</td>\n",
       "      <td>SFO</td>\n",
       "      <td>57.0</td>\n",
       "      <td>0.0</td>\n",
       "      <td>0.0</td>\n",
       "      <td>0.0</td>\n",
       "      <td>0.0</td>\n",
       "      <td>0.0</td>\n",
       "      <td>[07, 06, 2020]</td>\n",
       "    </tr>\n",
       "  </tbody>\n",
       "</table>\n",
       "<p>30632 rows × 13 columns</p>\n",
       "</div>"
      ],
      "text/plain": [
       "      Carrier Code Date (MM/DD/YYYY)  Flight_Number Tail Number  \\\n",
       "1               AA        01/01/2004         1920.0      N442AA   \n",
       "3               AA        01/01/2004         1936.0      N442AA   \n",
       "4               AA        01/01/2004         1942.0      N513AA   \n",
       "5               AA        01/01/2004         1950.0      N421AA   \n",
       "6               AA        01/01/2004         1958.0      N513AA   \n",
       "...            ...               ...            ...         ...   \n",
       "31114           AA        07/02/2020         2511.0      N758US   \n",
       "31115           AA        07/03/2020         2511.0      N836AW   \n",
       "31116           AA        07/04/2020         2511.0      N837AW   \n",
       "31117           AA        07/05/2020         2511.0      N764US   \n",
       "31118           AA        07/06/2020         2511.0      N765US   \n",
       "\n",
       "      Origin Airport Destination Airport  Airborne Time (Minutes)  \\\n",
       "1                LAX                 SFO                     74.0   \n",
       "3                LAX                 SFO                     55.0   \n",
       "4                LAX                 SFO                     57.0   \n",
       "5                LAX                 SFO                     58.0   \n",
       "6                LAX                 SFO                     53.0   \n",
       "...              ...                 ...                      ...   \n",
       "31114            LAX                 SFO                     51.0   \n",
       "31115            LAX                 SFO                     54.0   \n",
       "31116            LAX                 SFO                     53.0   \n",
       "31117            LAX                 SFO                     54.0   \n",
       "31118            LAX                 SFO                     57.0   \n",
       "\n",
       "       Delay Carrier (Minutes)  Delay Weather (Minutes)  \\\n",
       "1                          0.0                      0.0   \n",
       "3                         23.0                      0.0   \n",
       "4                          0.0                      0.0   \n",
       "5                          0.0                      0.0   \n",
       "6                          0.0                      0.0   \n",
       "...                        ...                      ...   \n",
       "31114                      0.0                      0.0   \n",
       "31115                      0.0                      0.0   \n",
       "31116                      0.0                      0.0   \n",
       "31117                      0.0                      0.0   \n",
       "31118                      0.0                      0.0   \n",
       "\n",
       "       Delay National Aviation System (Minutes)  Delay Security (Minutes)  \\\n",
       "1                                          32.0                       0.0   \n",
       "3                                           1.0                       0.0   \n",
       "4                                           0.0                       0.0   \n",
       "5                                           0.0                       0.0   \n",
       "6                                           0.0                       0.0   \n",
       "...                                         ...                       ...   \n",
       "31114                                       0.0                       0.0   \n",
       "31115                                       0.0                       0.0   \n",
       "31116                                       0.0                       0.0   \n",
       "31117                                       0.0                       0.0   \n",
       "31118                                       0.0                       0.0   \n",
       "\n",
       "       Delay Late Aircraft Arrival (Minutes)       Good Date  \n",
       "1                                        0.0  [01, 01, 2004]  \n",
       "3                                       11.0  [01, 01, 2004]  \n",
       "4                                        0.0  [01, 01, 2004]  \n",
       "5                                        0.0  [01, 01, 2004]  \n",
       "6                                        0.0  [01, 01, 2004]  \n",
       "...                                      ...             ...  \n",
       "31114                                    0.0  [07, 02, 2020]  \n",
       "31115                                    0.0  [07, 03, 2020]  \n",
       "31116                                    0.0  [07, 04, 2020]  \n",
       "31117                                    0.0  [07, 05, 2020]  \n",
       "31118                                    0.0  [07, 06, 2020]  \n",
       "\n",
       "[30632 rows x 13 columns]"
      ]
     },
     "execution_count": 29,
     "metadata": {},
     "output_type": "execute_result"
    }
   ],
   "source": [
    "table"
   ]
  },
  {
   "cell_type": "code",
   "execution_count": 39,
   "metadata": {},
   "outputs": [],
   "source": [
    "date = defaultdict(list)\n",
    "date['spring'] = []\n",
    "date['winter'] = []\n",
    "date['summer'] = []\n",
    "date['autumn'] = []\n",
    "for idx in table.index:\n",
    "    if((table.loc[idx]['Good Date'][0] == '01') or (table.loc[idx]['Good Date'][0] == '02') or (table.loc[idx]['Good Date'][0] == '12')):\n",
    "        date['winter'].append(table.loc[idx]['Airborne Time (Minutes)'])\n",
    "    if((table.loc[idx]['Good Date'][0] == '03') or (table.loc[idx]['Good Date'][0] == '04') or (table.loc[idx]['Good Date'][0] == '05')):\n",
    "        date['spring'].append(table.loc[idx]['Airborne Time (Minutes)'])\n",
    "    if((table.loc[idx]['Good Date'][0] == '06') or (table.loc[idx]['Good Date'][0] == '07') or (table.loc[idx]['Good Date'][0] == '08')):\n",
    "        date['summer'].append(table.loc[idx]['Airborne Time (Minutes)']) \n",
    "    if((table.loc[idx]['Good Date'][0] == '09') or (table.loc[idx]['Good Date'][0] == '10') or (table.loc[idx]['Good Date'][0] == '11')):\n",
    "        date['autumn'].append(table.loc[idx]['Airborne Time (Minutes)'])  "
   ]
  },
  {
   "cell_type": "code",
   "execution_count": 45,
   "metadata": {},
   "outputs": [],
   "source": [
    "y = date['spring'] + sts.uniform.rvs(size = len(date['spring']))"
   ]
  },
  {
   "cell_type": "code",
   "execution_count": null,
   "metadata": {},
   "outputs": [],
   "source": []
  },
  {
   "cell_type": "code",
   "execution_count": 46,
   "metadata": {},
   "outputs": [],
   "source": [
    "from statsmodels.distributions import ECDF"
   ]
  },
  {
   "cell_type": "code",
   "execution_count": 50,
   "metadata": {},
   "outputs": [],
   "source": [
    "c0,c1,c2 = sts.lognorm.fit(y)"
   ]
  },
  {
   "cell_type": "code",
   "execution_count": 52,
   "metadata": {},
   "outputs": [
    {
     "name": "stdout",
     "output_type": "stream",
     "text": [
      "0.3187190318357259 40.701413428731584 15.598547998423218\n"
     ]
    }
   ],
   "source": [
    "print(c0,c1,c2)"
   ]
  },
  {
   "cell_type": "code",
   "execution_count": 47,
   "metadata": {},
   "outputs": [],
   "source": [
    "ecdfy = ECDF(y)\n"
   ]
  },
  {
   "cell_type": "code",
   "execution_count": 82,
   "metadata": {},
   "outputs": [],
   "source": [
    "from scipy.stats import kstest"
   ]
  },
  {
   "cell_type": "code",
   "execution_count": 87,
   "metadata": {},
   "outputs": [
    {
     "data": {
      "text/plain": [
       "Text(0.5, 0, 'Airborne Time (Minutes) : Lognorm(s = 0.327, loc = 41.098, scale = 15.177)')"
      ]
     },
     "execution_count": 87,
     "metadata": {},
     "output_type": "execute_result"
    },
    {
     "data": {
      "image/png": "[encoded data removed]",
      "text/plain": [
       "<Figure size 432x288 with 1 Axes>"
      ]
     },
     "metadata": {
      "needs_background": "light"
     },
     "output_type": "display_data"
    }
   ],
   "source": [
    "y = date['spring'] + sts.uniform.rvs(size = len(date['spring']))\n",
    "c0,c1,c2 = sts.lognorm.fit(y)\n",
    "ecdfy = ECDF(y)\n",
    "val = sts.lognorm.rvs(size = 30000, s = c0, loc = c1, scale = c2)\n",
    "ecdfval = ECDF(val)\n",
    "plt.plot(ecdfval.x, ecdfval.y)\n",
    "plt.plot(ecdfy.x, ecdfy.y)\n",
    "plt.xlabel(str.format('Airborne Time (Minutes) : Lognorm(s = {0:.3f}, loc = {1}, scale = {2})', round(c0, 3), round(c1,3), round(c2,3)))"
   ]
  },
  {
   "cell_type": "code",
   "execution_count": 89,
   "metadata": {},
   "outputs": [
    {
     "data": {
      "text/plain": [
       "KstestResult(statistic=0.04801049314240613, pvalue=7.646961854100664e-16)"
      ]
     },
     "execution_count": 89,
     "metadata": {},
     "output_type": "execute_result"
    }
   ],
   "source": [
    "kstest(y, 'lognorm', (c0,c1,c2))"
   ]
  },
  {
   "cell_type": "code",
   "execution_count": 90,
   "metadata": {},
   "outputs": [
    {
     "data": {
      "text/plain": [
       "Text(0.5, 0, 'Airborne Time (Minutes) : Lognorm(s = 0.445, loc = 44.613, scale = 8.229)')"
      ]
     },
     "execution_count": 90,
     "metadata": {},
     "output_type": "execute_result"
    },
    {
     "data": {
      "image/png": "[encoded data removed]",
      "text/plain": [
       "<Figure size 432x288 with 1 Axes>"
      ]
     },
     "metadata": {
      "needs_background": "light"
     },
     "output_type": "display_data"
    }
   ],
   "source": [
    "y = date['summer'] + sts.uniform.rvs(size = len(date['summer']))\n",
    "c0,c1,c2 = sts.lognorm.fit(y)\n",
    "ecdfy = ECDF(y)\n",
    "val = sts.lognorm.rvs(size = 30000, s = c0, loc = c1, scale = c2)\n",
    "ecdfval = ECDF(val)\n",
    "plt.plot(ecdfval.x, ecdfval.y)\n",
    "plt.plot(ecdfy.x, ecdfy.y)\n",
    "plt.xlabel(str.format('Airborne Time (Minutes) : Lognorm(s = {0:.3f}, loc = {1}, scale = {2})', round(c0, 3), round(c1,3), round(c2,3)))"
   ]
  },
  {
   "cell_type": "code",
   "execution_count": 91,
   "metadata": {},
   "outputs": [
    {
     "data": {
      "text/plain": [
       "KstestResult(statistic=0.04947406720402869, pvalue=8.452009341070748e-17)"
      ]
     },
     "execution_count": 91,
     "metadata": {},
     "output_type": "execute_result"
    }
   ],
   "source": [
    "kstest(y, 'lognorm', (c0,c1,c2))"
   ]
  },
  {
   "cell_type": "code",
   "execution_count": 98,
   "metadata": {},
   "outputs": [
    {
     "data": {
      "text/plain": [
       "Text(0.5, 0, 'Airborne Time (Minutes) : Lognorm(s = 0.105, loc = 5.316, scale = 50.029)')"
      ]
     },
     "execution_count": 98,
     "metadata": {},
     "output_type": "execute_result"
    },
    {
     "data": {
      "image/png": "[encoded data removed]",
      "text/plain": [
       "<Figure size 432x288 with 1 Axes>"
      ]
     },
     "metadata": {
      "needs_background": "light"
     },
     "output_type": "display_data"
    }
   ],
   "source": [
    "y = date['autumn'] + sts.uniform.rvs(size = len(date['autumn']))\n",
    "c0,c1,c2 = sts.lognorm.fit(y)\n",
    "ecdfy = ECDF(np.sort(y))\n",
    "val = sts.lognorm.rvs(size = 30000, s = c0, loc = c1, scale = c2)\n",
    "ecdfval = ECDF(val)\n",
    "plt.plot(ecdfval.x, ecdfval.y)\n",
    "plt.plot(ecdfy.x, ecdfy.y)\n",
    "plt.xlabel(str.format('Airborne Time (Minutes) : Lognorm(s = {0:.3f}, loc = {1}, scale = {2})', round(c0, 3), round(c1,3), round(c2,3)))"
   ]
  },
  {
   "cell_type": "code",
   "execution_count": 115,
   "metadata": {},
   "outputs": [
    {
     "data": {
      "text/plain": [
       "KstestResult(statistic=0.034196810600471195, pvalue=3.477114934734855e-08)"
      ]
     },
     "execution_count": 115,
     "metadata": {},
     "output_type": "execute_result"
    }
   ],
   "source": [
    "kstest(y, 'lognorm', (c0,c1,c2))"
   ]
  },
  {
   "cell_type": "code",
   "execution_count": 113,
   "metadata": {},
   "outputs": [
    {
     "data": {
      "text/plain": [
       "Text(0.5, 0, 'Airborne Time (Minutes) : Lognorm(s = 0.510, loc = 45.36, scale = 9.7)')"
      ]
     },
     "execution_count": 113,
     "metadata": {},
     "output_type": "execute_result"
    },
    {
     "data": {
      "image/png": "[encoded data removed]",
      "text/plain": [
       "<Figure size 432x288 with 1 Axes>"
      ]
     },
     "metadata": {
      "needs_background": "light"
     },
     "output_type": "display_data"
    }
   ],
   "source": [
    "y = date['autumn'] + sts.uniform.rvs(size = len(date['autumn']))\n",
    "c0,c1,c2 = sts.lognorm.fit(y)\n",
    "ecdfy = ECDF(np.sort(y))\n",
    "c0= 0.51\n",
    "c1 = 45.36\n",
    "c2 = 9.7\n",
    "val = sts.lognorm.rvs(size = 30000, s = c0, loc = c1, scale = c2)\n",
    "ecdfval = ECDF(val)\n",
    "plt.plot(ecdfval.x, ecdfval.y)\n",
    "plt.plot(ecdfy.x, ecdfy.y)\n",
    "plt.xlabel(str.format('Airborne Time (Minutes) : Lognorm(s = {0:.3f}, loc = {1}, scale = {2})', round(c0, 3), round(c1,3), round(c2,3)))"
   ]
  },
  {
   "cell_type": "code",
   "execution_count": 116,
   "metadata": {},
   "outputs": [
    {
     "data": {
      "text/plain": [
       "KstestResult(statistic=0.034196810600471195, pvalue=3.477114934734855e-08)"
      ]
     },
     "execution_count": 116,
     "metadata": {},
     "output_type": "execute_result"
    }
   ],
   "source": [
    "kstest(y, 'lognorm', (c0,c1,c2))"
   ]
  },
  {
   "cell_type": "code",
   "execution_count": 114,
   "metadata": {},
   "outputs": [
    {
     "data": {
      "text/plain": [
       "Text(0.5, 0, 'Airborne Time (Minutes) : Lognorm(s = 0.472, loc = 44.677, scale = 12.501)')"
      ]
     },
     "execution_count": 114,
     "metadata": {},
     "output_type": "execute_result"
    },
    {
     "data": {
      "image/png": "[encoded data removed]",
      "text/plain": [
       "<Figure size 432x288 with 1 Axes>"
      ]
     },
     "metadata": {
      "needs_background": "light"
     },
     "output_type": "display_data"
    }
   ],
   "source": [
    "y = date['winter'] + sts.uniform.rvs(size = len(date['winter']))\n",
    "c0,c1,c2 = sts.lognorm.fit(y)\n",
    "ecdfy = ECDF(np.sort(y))\n",
    "val = sts.lognorm.rvs(size = 30000, s = c0, loc = c1, scale = c2)\n",
    "ecdfval = ECDF(val)\n",
    "plt.plot(ecdfval.x, ecdfval.y)\n",
    "plt.plot(ecdfy.x, ecdfy.y)\n",
    "plt.xlabel(str.format('Airborne Time (Minutes) : Lognorm(s = {0:.3f}, loc = {1}, scale = {2})', round(c0, 3), round(c1,3), round(c2,3)))"
   ]
  },
  {
   "cell_type": "code",
   "execution_count": 117,
   "metadata": {},
   "outputs": [],
   "source": [
    "bymonths = defaultdict(list)"
   ]
  },
  {
   "cell_type": "code",
   "execution_count": 118,
   "metadata": {},
   "outputs": [],
   "source": [
    "for idx in table.index:\n",
    "    bymonths[table.loc[idx]['Good Date'][0]].append(table.loc[idx]['Airborne Time (Minutes)'])"
   ]
  },
  {
   "cell_type": "code",
   "execution_count": 122,
   "metadata": {},
   "outputs": [],
   "source": [
    "res = []\n",
    "for idx in bymonths.keys():\n",
    "    res.append(np.mean(bymonths[idx]))"
   ]
  },
  {
   "cell_type": "code",
   "execution_count": 123,
   "metadata": {},
   "outputs": [
    {
     "data": {
      "text/plain": [
       "Text(0, 0.5, 'Time')"
      ]
     },
     "execution_count": 123,
     "metadata": {},
     "output_type": "execute_result"
    },
    {
     "data": {
      "image/png": "[encoded data removed]",
      "text/plain": [
       "<Figure size 432x288 with 1 Axes>"
      ]
     },
     "metadata": {
      "needs_background": "light"
     },
     "output_type": "display_data"
    }
   ],
   "source": [
    "plt.bar(['1', '2', '3', '4', '5', '6','7', '8', '9', '10', '11', '12'], res)\n",
    "plt.ylim([50,60])\n",
    "plt.xlabel('month')\n",
    "plt.ylabel('Time')"
   ]
  },
  {
   "cell_type": "code",
   "execution_count": 148,
   "metadata": {},
   "outputs": [],
   "source": [
    "from statsmodels.distributions.empirical_distribution import ECDF"
   ]
  },
  {
   "cell_type": "code",
   "execution_count": 383,
   "metadata": {},
   "outputs": [],
   "source": [
    "u = sts.uniform.rvs(size = len(autumn))"
   ]
  },
  {
   "cell_type": "code",
   "execution_count": 8,
   "metadata": {},
   "outputs": [
    {
     "ename": "NameError",
     "evalue": "name 'spring' is not defined",
     "output_type": "error",
     "traceback": [
      "\u001b[0;31m---------------------------------------------------------------------------\u001b[0m",
      "\u001b[0;31mNameError\u001b[0m                                 Traceback (most recent call last)",
      "\u001b[0;32m<ipython-input-8-16426afdffe4>\u001b[0m in \u001b[0;36m<module>\u001b[0;34m\u001b[0m\n\u001b[0;32m----> 1\u001b[0;31m \u001b[0mww\u001b[0m \u001b[0;34m=\u001b[0m \u001b[0mnp\u001b[0m\u001b[0;34m.\u001b[0m\u001b[0msort\u001b[0m\u001b[0;34m(\u001b[0m\u001b[0mspring\u001b[0m\u001b[0;34m)\u001b[0m\u001b[0;34m\u001b[0m\u001b[0;34m\u001b[0m\u001b[0m\n\u001b[0m",
      "\u001b[0;31mNameError\u001b[0m: name 'spring' is not defined"
     ]
    }
   ],
   "source": [
    "ww = np.sort(spring)"
   ]
  },
  {
   "cell_type": "code",
   "execution_count": null,
   "metadata": {},
   "outputs": [],
   "source": []
  },
  {
   "cell_type": "code",
   "execution_count": 385,
   "metadata": {},
   "outputs": [],
   "source": [
    "y = ECDF(np.sort(autumn) + u)"
   ]
  },
  {
   "cell_type": "code",
   "execution_count": 386,
   "metadata": {},
   "outputs": [
    {
     "data": {
      "text/plain": [
       "(2.4736440494802867, 43.47117796134698, 1.2555704466536004)"
      ]
     },
     "execution_count": 386,
     "metadata": {},
     "output_type": "execute_result"
    }
   ],
   "source": [
    "sts.lognorm.fit(np.sort(autumn) + u)"
   ]
  },
  {
   "cell_type": "code",
   "execution_count": 381,
   "metadata": {},
   "outputs": [
    {
     "data": {
      "text/plain": [
       "(40.0, 115.0)"
      ]
     },
     "execution_count": 381,
     "metadata": {},
     "output_type": "execute_result"
    },
    {
     "data": {
      "image/png": "[encoded data removed]",
      "text/plain": [
       "<Figure size 432x288 with 1 Axes>"
      ]
     },
     "metadata": {
      "needs_background": "light"
     },
     "output_type": "display_data"
    }
   ],
   "source": [
    "w = sts.lognorm.rvs(size = 300000, s = 2.47, loc = 43.4, scale = 1.25)\n",
    "vals = ECDF(w)\n",
    "plt.plot(vals.x, vals.y)\n",
    "plt.plot(y.x, y.y)\n",
    "plt.xlabel('Airborne Time (Minutes) for Autumn: LogNorm(s = 0.51, loc = 45.36, scale = 9.7)')\n",
    "plt.xlim([40,115])"
   ]
  },
  {
   "cell_type": "code",
   "execution_count": 65,
   "metadata": {},
   "outputs": [],
   "source": [
    "w = sts.weibull_min.rvs(size = 3000, c = 0.3653, loc = 44.485, scale = 1.3703)"
   ]
  },
  {
   "cell_type": "code",
   "execution_count": 18,
   "metadata": {},
   "outputs": [],
   "source": [
    "y = ECDF(w)"
   ]
  },
  {
   "cell_type": "code",
   "execution_count": 19,
   "metadata": {},
   "outputs": [
    {
     "data": {
      "text/plain": [
       "[<matplotlib.lines.Line2D at 0x7fc4716607f0>]"
      ]
     },
     "execution_count": 19,
     "metadata": {},
     "output_type": "execute_result"
    },
    {
     "data": {
      "image/png": "[encoded data removed]",
      "text/plain": [
       "<Figure size 432x288 with 1 Axes>"
      ]
     },
     "metadata": {
      "needs_background": "light"
     },
     "output_type": "display_data"
    }
   ],
   "source": [
    "plt.plot(y.x, y.y)"
   ]
  },
  {
   "cell_type": "code",
   "execution_count": 20,
   "metadata": {},
   "outputs": [],
   "source": [
    "from scipy.stats import kstest"
   ]
  },
  {
   "cell_type": "code",
   "execution_count": 21,
   "metadata": {},
   "outputs": [
    {
     "data": {
      "text/plain": [
       "KstestResult(statistic=1.0, pvalue=0.0)"
      ]
     },
     "execution_count": 21,
     "metadata": {},
     "output_type": "execute_result"
    }
   ],
   "source": [
    "kstest(np.sort(winter) + u, sts.weibull_min.cdf(winter, c = 0.365))"
   ]
  },
  {
   "cell_type": "code",
   "execution_count": 22,
   "metadata": {},
   "outputs": [
    {
     "data": {
      "text/plain": [
       "(array([  3.,   5.,  60., 110., 218., 638., 314., 527., 215., 173., 242.,\n",
       "         74.,  76.,  96.,  38.,  59.,  25.,  18.,  44.,  15.,  15.,  25.,\n",
       "          7.,  15.,   3.,   4.,   5.,   0.,   6.,   4.,   2.,   4.,   0.,\n",
       "          1.,   2.,   0.,   2.,   1.,   0.,   4.,   0.,   0.,   0.,   1.,\n",
       "          0.,   0.,   0.,   1.,   0.,   1.]),\n",
       " array([ 44.  ,  45.38,  46.76,  48.14,  49.52,  50.9 ,  52.28,  53.66,\n",
       "         55.04,  56.42,  57.8 ,  59.18,  60.56,  61.94,  63.32,  64.7 ,\n",
       "         66.08,  67.46,  68.84,  70.22,  71.6 ,  72.98,  74.36,  75.74,\n",
       "         77.12,  78.5 ,  79.88,  81.26,  82.64,  84.02,  85.4 ,  86.78,\n",
       "         88.16,  89.54,  90.92,  92.3 ,  93.68,  95.06,  96.44,  97.82,\n",
       "         99.2 , 100.58, 101.96, 103.34, 104.72, 106.1 , 107.48, 108.86,\n",
       "        110.24, 111.62, 113.  ]),\n",
       " <BarContainer object of 50 artists>)"
      ]
     },
     "execution_count": 22,
     "metadata": {},
     "output_type": "execute_result"
    },
    {
     "data": {
      "image/png": "[encoded data removed]",
      "text/plain": [
       "<Figure size 432x288 with 1 Axes>"
      ]
     },
     "metadata": {
      "needs_background": "light"
     },
     "output_type": "display_data"
    }
   ],
   "source": [
    "plt.hist(winter, bins = 50)"
   ]
  },
  {
   "cell_type": "code",
   "execution_count": 23,
   "metadata": {},
   "outputs": [
    {
     "data": {
      "text/plain": [
       "(array([  1.,   0.,   2.,  15.,  43., 266., 264., 317., 339., 320., 274.,\n",
       "        402., 146., 115.,  90.,  61.,  91.,  42.,  32.,  34.,  25.,  16.,\n",
       "         40.,  14.,  11.,  12.,   6.,   9.,   3.,   2.,   4.,   1.,   3.,\n",
       "          4.,   1.,   4.,   3.,   2.,   5.,   3.,   0.,   0.,   0.,   2.,\n",
       "          0.,   1.,   1.,   0.,   0.,   1.]),\n",
       " array([ 43.  ,  44.18,  45.36,  46.54,  47.72,  48.9 ,  50.08,  51.26,\n",
       "         52.44,  53.62,  54.8 ,  55.98,  57.16,  58.34,  59.52,  60.7 ,\n",
       "         61.88,  63.06,  64.24,  65.42,  66.6 ,  67.78,  68.96,  70.14,\n",
       "         71.32,  72.5 ,  73.68,  74.86,  76.04,  77.22,  78.4 ,  79.58,\n",
       "         80.76,  81.94,  83.12,  84.3 ,  85.48,  86.66,  87.84,  89.02,\n",
       "         90.2 ,  91.38,  92.56,  93.74,  94.92,  96.1 ,  97.28,  98.46,\n",
       "         99.64, 100.82, 102.  ]),\n",
       " <BarContainer object of 50 artists>)"
      ]
     },
     "execution_count": 23,
     "metadata": {},
     "output_type": "execute_result"
    },
    {
     "data": {
      "image/png": "[encoded data removed]",
      "text/plain": [
       "<Figure size 432x288 with 1 Axes>"
      ]
     },
     "metadata": {
      "needs_background": "light"
     },
     "output_type": "display_data"
    }
   ],
   "source": [
    "plt.hist(autumn, bins = 50)"
   ]
  },
  {
   "cell_type": "code",
   "execution_count": 24,
   "metadata": {},
   "outputs": [],
   "source": [
    "c0, c1, c2 = sts.lognorm.fit(spring)"
   ]
  },
  {
   "cell_type": "code",
   "execution_count": 25,
   "metadata": {},
   "outputs": [
    {
     "data": {
      "text/plain": [
       "(0.4493023402298564, 43.61960532497915, 10.833579481814592)"
      ]
     },
     "execution_count": 25,
     "metadata": {},
     "output_type": "execute_result"
    }
   ],
   "source": [
    "c0,c1,c2"
   ]
  },
  {
   "cell_type": "code",
   "execution_count": 26,
   "metadata": {},
   "outputs": [],
   "source": [
    "c0, c1, c2 = sts.lognorm.fit(summer)"
   ]
  },
  {
   "cell_type": "code",
   "execution_count": 27,
   "metadata": {},
   "outputs": [
    {
     "data": {
      "text/plain": [
       "(0.5140074987950717, 44.829966239157685, 9.74252908501002)"
      ]
     },
     "execution_count": 27,
     "metadata": {},
     "output_type": "execute_result"
    }
   ],
   "source": [
    "c0,c1,c2"
   ]
  },
  {
   "cell_type": "code",
   "execution_count": 28,
   "metadata": {},
   "outputs": [],
   "source": [
    "c0, c1, c2 = sts.lognorm.fit(autumn)"
   ]
  },
  {
   "cell_type": "code",
   "execution_count": 29,
   "metadata": {},
   "outputs": [
    {
     "data": {
      "text/plain": [
       "(0.3846475245399936, 42.34569608716964, 12.426210701599384)"
      ]
     },
     "execution_count": 29,
     "metadata": {},
     "output_type": "execute_result"
    }
   ],
   "source": [
    "c0, c1, c2"
   ]
  },
  {
   "cell_type": "code",
   "execution_count": null,
   "metadata": {},
   "outputs": [],
   "source": []
  },
  {
   "cell_type": "code",
   "execution_count": null,
   "metadata": {},
   "outputs": [],
   "source": []
  },
  {
   "cell_type": "code",
   "execution_count": null,
   "metadata": {},
   "outputs": [],
   "source": []
  }
 ],
 "metadata": {
  "kernelspec": {
   "display_name": "Python 3",
   "language": "python",
   "name": "python3"
  },
  "language_info": {
   "codemirror_mode": {
    "name": "ipython",
    "version": 3
   },
   "file_extension": ".py",
   "mimetype": "text/x-python",
   "name": "python",
   "nbconvert_exporter": "python",
   "pygments_lexer": "ipython3",
   "version": "3.8.5"
  }
 },
 "nbformat": 4,
 "nbformat_minor": 4
}
